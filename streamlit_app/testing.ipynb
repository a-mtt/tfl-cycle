{
 "cells": [
  {
   "cell_type": "code",
   "execution_count": 16,
   "metadata": {},
   "outputs": [
    {
     "name": "stdout",
     "output_type": "stream",
     "text": [
      "Requirement already satisfied: db-dtypes in ./.venv/lib/python3.8/site-packages (1.1.1)\n",
      "Requirement already satisfied: packaging>=17.0 in ./.venv/lib/python3.8/site-packages (from db-dtypes) (23.2)\n",
      "Requirement already satisfied: pandas>=0.24.2 in ./.venv/lib/python3.8/site-packages (from db-dtypes) (2.0.3)\n",
      "Requirement already satisfied: pyarrow>=3.0.0 in ./.venv/lib/python3.8/site-packages (from db-dtypes) (14.0.1)\n",
      "Requirement already satisfied: numpy>=1.16.6 in ./.venv/lib/python3.8/site-packages (from db-dtypes) (1.24.4)\n",
      "Requirement already satisfied: python-dateutil>=2.8.2 in ./.venv/lib/python3.8/site-packages (from pandas>=0.24.2->db-dtypes) (2.8.2)\n",
      "Requirement already satisfied: pytz>=2020.1 in ./.venv/lib/python3.8/site-packages (from pandas>=0.24.2->db-dtypes) (2023.3.post1)\n",
      "Requirement already satisfied: tzdata>=2022.1 in ./.venv/lib/python3.8/site-packages (from pandas>=0.24.2->db-dtypes) (2023.3)\n",
      "Requirement already satisfied: six>=1.5 in ./.venv/lib/python3.8/site-packages (from python-dateutil>=2.8.2->pandas>=0.24.2->db-dtypes) (1.16.0)\n",
      "\n",
      "\u001b[1m[\u001b[0m\u001b[34;49mnotice\u001b[0m\u001b[1;39;49m]\u001b[0m\u001b[39;49m A new release of pip is available: \u001b[0m\u001b[31;49m23.2.1\u001b[0m\u001b[39;49m -> \u001b[0m\u001b[32;49m23.3.1\u001b[0m\n",
      "\u001b[1m[\u001b[0m\u001b[34;49mnotice\u001b[0m\u001b[1;39;49m]\u001b[0m\u001b[39;49m To update, run: \u001b[0m\u001b[32;49mpip install --upgrade pip\u001b[0m\n",
      "Note: you may need to restart the kernel to use updated packages.\n"
     ]
    }
   ],
   "source": [
    "pip install db-dtypes\n"
   ]
  },
  {
   "cell_type": "code",
   "execution_count": 12,
   "metadata": {},
   "outputs": [],
   "source": [
    "# bigquery_helper.py\n",
    "import streamlit as st\n",
    "from google.cloud import bigquery\n",
    "from google.oauth2 import service_account\n",
    "\n",
    "\n",
    "# Function to create BigQuery client\n",
    "def create_bigquery_client(credentials_path):\n",
    "    credentials = service_account.Credentials.from_service_account_file(\n",
    "        credentials_path,\n",
    "    )\n",
    "    client = bigquery.Client(credentials=credentials, location=\"europe-west9\")\n",
    "    return client\n",
    "\n",
    "# Function to query all data from a BigQuery table\n",
    "#@st.cache_data(ttl=600, show_spinner=True)\n",
    "#def query_all_from_table(client, dataset_name, table_name):\n",
    "#    query = f\"SELECT * FROM `{dataset_name}.{table_name}`\"\n",
    "#    query_job = client.query(query)\n",
    "#    return query_job.result().to_dataframe()\n",
    "\n",
    "def query_all_from_table(credentials_path, dataset_name, table_name):\n",
    "    query = f\"SELECT * FROM `{dataset_name}.{table_name}`\"\n",
    "    credentials = service_account.Credentials.from_service_account_file(\n",
    "        credentials_path,\n",
    "    )\n",
    "    client = bigquery.Client(credentials=credentials, location=\"europe-west9\")\n",
    "    query_job = client.query(query)\n",
    "    return query_job.result().to_dataframe()\n",
    "\n",
    "\n",
    "\n",
    "# Add additional query functions as needed\n"
   ]
  },
  {
   "cell_type": "code",
   "execution_count": 15,
   "metadata": {},
   "outputs": [
    {
     "ename": "ValueError",
     "evalue": "Please install the 'db-dtypes' package to use this function.",
     "output_type": "error",
     "traceback": [
      "\u001b[0;31m---------------------------------------------------------------------------\u001b[0m",
      "\u001b[0;31mModuleNotFoundError\u001b[0m                       Traceback (most recent call last)",
      "File \u001b[0;32m~/code/charlesgleizes/tfl-cycle/streamlit_app/.venv/lib/python3.8/site-packages/google/cloud/bigquery/_pandas_helpers.py:41\u001b[0m\n\u001b[1;32m     40\u001b[0m \u001b[39mtry\u001b[39;00m:\n\u001b[0;32m---> 41\u001b[0m     \u001b[39mimport\u001b[39;00m \u001b[39mdb_dtypes\u001b[39;00m  \u001b[39m# type: ignore\u001b[39;00m\n\u001b[1;32m     43\u001b[0m     date_dtype_name \u001b[39m=\u001b[39m db_dtypes\u001b[39m.\u001b[39mDateDtype\u001b[39m.\u001b[39mname\n",
      "\u001b[0;31mModuleNotFoundError\u001b[0m: No module named 'db_dtypes'",
      "\nThe above exception was the direct cause of the following exception:\n",
      "\u001b[0;31mValueError\u001b[0m                                Traceback (most recent call last)",
      "\u001b[1;32m/home/charles.gleizes.perso/code/charlesgleizes/tfl-cycle/streamlit_app/testing.ipynb Cell 3\u001b[0m line \u001b[0;36m8\n\u001b[1;32m      <a href='vscode-notebook-cell://ssh-remote%2Bdateng_vm_cg/home/charles.gleizes.perso/code/charlesgleizes/tfl-cycle/streamlit_app/testing.ipynb#W4sdnNjb2RlLXJlbW90ZQ%3D%3D?line=3'>4</a>\u001b[0m TABLE_NAME \u001b[39m=\u001b[39m os\u001b[39m.\u001b[39mgetenv(\u001b[39m'\u001b[39m\u001b[39mTABLE_NAME\u001b[39m\u001b[39m'\u001b[39m)\n\u001b[1;32m      <a href='vscode-notebook-cell://ssh-remote%2Bdateng_vm_cg/home/charles.gleizes.perso/code/charlesgleizes/tfl-cycle/streamlit_app/testing.ipynb#W4sdnNjb2RlLXJlbW90ZQ%3D%3D?line=5'>6</a>\u001b[0m \u001b[39m# Cache the query to prevent re-running it on each app interaction\u001b[39;00m\n\u001b[0;32m----> <a href='vscode-notebook-cell://ssh-remote%2Bdateng_vm_cg/home/charles.gleizes.perso/code/charlesgleizes/tfl-cycle/streamlit_app/testing.ipynb#W4sdnNjb2RlLXJlbW90ZQ%3D%3D?line=7'>8</a>\u001b[0m table_data \u001b[39m=\u001b[39m query_all_from_table(CREDENTIALS_PATH, dataset_name\u001b[39m=\u001b[39;49mDATASET_NAME, table_name\u001b[39m=\u001b[39;49mTABLE_NAME)\n",
      "\u001b[1;32m/home/charles.gleizes.perso/code/charlesgleizes/tfl-cycle/streamlit_app/testing.ipynb Cell 3\u001b[0m line \u001b[0;36m2\n\u001b[1;32m     <a href='vscode-notebook-cell://ssh-remote%2Bdateng_vm_cg/home/charles.gleizes.perso/code/charlesgleizes/tfl-cycle/streamlit_app/testing.ipynb#W4sdnNjb2RlLXJlbW90ZQ%3D%3D?line=26'>27</a>\u001b[0m client \u001b[39m=\u001b[39m bigquery\u001b[39m.\u001b[39mClient(credentials\u001b[39m=\u001b[39mcredentials, location\u001b[39m=\u001b[39m\u001b[39m\"\u001b[39m\u001b[39meurope-west9\u001b[39m\u001b[39m\"\u001b[39m)\n\u001b[1;32m     <a href='vscode-notebook-cell://ssh-remote%2Bdateng_vm_cg/home/charles.gleizes.perso/code/charlesgleizes/tfl-cycle/streamlit_app/testing.ipynb#W4sdnNjb2RlLXJlbW90ZQ%3D%3D?line=27'>28</a>\u001b[0m query_job \u001b[39m=\u001b[39m client\u001b[39m.\u001b[39mquery(query)\n\u001b[0;32m---> <a href='vscode-notebook-cell://ssh-remote%2Bdateng_vm_cg/home/charles.gleizes.perso/code/charlesgleizes/tfl-cycle/streamlit_app/testing.ipynb#W4sdnNjb2RlLXJlbW90ZQ%3D%3D?line=28'>29</a>\u001b[0m \u001b[39mreturn\u001b[39;00m query_job\u001b[39m.\u001b[39;49mresult()\u001b[39m.\u001b[39;49mto_dataframe()\n",
      "File \u001b[0;32m~/code/charlesgleizes/tfl-cycle/streamlit_app/.venv/lib/python3.8/site-packages/google/cloud/bigquery/table.py:2100\u001b[0m, in \u001b[0;36mRowIterator.to_dataframe\u001b[0;34m(self, bqstorage_client, dtypes, progress_bar_type, create_bqstorage_client, geography_as_object, bool_dtype, int_dtype, float_dtype, string_dtype, date_dtype, datetime_dtype, time_dtype, timestamp_dtype)\u001b[0m\n\u001b[1;32m   1929\u001b[0m \u001b[39mdef\u001b[39;00m \u001b[39mto_dataframe\u001b[39m(\n\u001b[1;32m   1930\u001b[0m     \u001b[39mself\u001b[39m,\n\u001b[1;32m   1931\u001b[0m     bqstorage_client: Optional[\u001b[39m\"\u001b[39m\u001b[39mbigquery_storage.BigQueryReadClient\u001b[39m\u001b[39m\"\u001b[39m] \u001b[39m=\u001b[39m \u001b[39mNone\u001b[39;00m,\n\u001b[0;32m   (...)\u001b[0m\n\u001b[1;32m   1943\u001b[0m     timestamp_dtype: Union[Any, \u001b[39mNone\u001b[39;00m] \u001b[39m=\u001b[39m \u001b[39mNone\u001b[39;00m,\n\u001b[1;32m   1944\u001b[0m ) \u001b[39m-\u001b[39m\u001b[39m>\u001b[39m \u001b[39m\"\u001b[39m\u001b[39mpandas.DataFrame\u001b[39m\u001b[39m\"\u001b[39m:\n\u001b[1;32m   1945\u001b[0m \u001b[39m    \u001b[39m\u001b[39m\"\"\"Create a pandas DataFrame by loading all pages of a query.\u001b[39;00m\n\u001b[1;32m   1946\u001b[0m \n\u001b[1;32m   1947\u001b[0m \u001b[39m    Args:\u001b[39;00m\n\u001b[0;32m   (...)\u001b[0m\n\u001b[1;32m   2098\u001b[0m \n\u001b[1;32m   2099\u001b[0m \u001b[39m    \"\"\"\u001b[39;00m\n\u001b[0;32m-> 2100\u001b[0m     _pandas_helpers\u001b[39m.\u001b[39;49mverify_pandas_imports()\n\u001b[1;32m   2102\u001b[0m     \u001b[39mif\u001b[39;00m geography_as_object \u001b[39mand\u001b[39;00m shapely \u001b[39mis\u001b[39;00m \u001b[39mNone\u001b[39;00m:\n\u001b[1;32m   2103\u001b[0m         \u001b[39mraise\u001b[39;00m \u001b[39mValueError\u001b[39;00m(_NO_SHAPELY_ERROR)\n",
      "File \u001b[0;32m~/code/charlesgleizes/tfl-cycle/streamlit_app/.venv/lib/python3.8/site-packages/google/cloud/bigquery/_pandas_helpers.py:962\u001b[0m, in \u001b[0;36mverify_pandas_imports\u001b[0;34m()\u001b[0m\n\u001b[1;32m    960\u001b[0m     \u001b[39mraise\u001b[39;00m \u001b[39mValueError\u001b[39;00m(_NO_PANDAS_ERROR) \u001b[39mfrom\u001b[39;00m \u001b[39mpandas_import_exception\u001b[39;00m\n\u001b[1;32m    961\u001b[0m \u001b[39mif\u001b[39;00m db_dtypes \u001b[39mis\u001b[39;00m \u001b[39mNone\u001b[39;00m:\n\u001b[0;32m--> 962\u001b[0m     \u001b[39mraise\u001b[39;00m \u001b[39mValueError\u001b[39;00m(_NO_DB_TYPES_ERROR) \u001b[39mfrom\u001b[39;00m \u001b[39mdb_dtypes_import_exception\u001b[39;00m\n",
      "\u001b[0;31mValueError\u001b[0m: Please install the 'db-dtypes' package to use this function."
     ]
    }
   ],
   "source": [
    "import os\n",
    "CREDENTIALS_PATH = os.getenv('CREDENTIALS_PATH')\n",
    "DATASET_NAME = os.getenv('DATASET_NAME')\n",
    "TABLE_NAME = os.getenv('TABLE_NAME')\n",
    "\n",
    "# Cache the query to prevent re-running it on each app interaction\n",
    "\n",
    "table_data = query_all_from_table(CREDENTIALS_PATH, dataset_name=DATASET_NAME, table_name=TABLE_NAME)\n"
   ]
  },
  {
   "cell_type": "code",
   "execution_count": null,
   "metadata": {},
   "outputs": [],
   "source": []
  }
 ],
 "metadata": {
  "kernelspec": {
   "display_name": ".venv",
   "language": "python",
   "name": "python3"
  },
  "language_info": {
   "codemirror_mode": {
    "name": "ipython",
    "version": 3
   },
   "file_extension": ".py",
   "mimetype": "text/x-python",
   "name": "python",
   "nbconvert_exporter": "python",
   "pygments_lexer": "ipython3",
   "version": "3.8.14"
  }
 },
 "nbformat": 4,
 "nbformat_minor": 2
}
