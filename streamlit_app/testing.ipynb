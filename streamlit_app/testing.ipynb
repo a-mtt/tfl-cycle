{
 "cells": [
  {
   "cell_type": "code",
   "execution_count": 1,
   "metadata": {},
   "outputs": [],
   "source": [
    "# bigquery_helper.py\n",
    "import streamlit as st\n",
    "from google.cloud import bigquery\n",
    "from google.oauth2 import service_account\n",
    "import streamlit as st\n",
    "import os\n",
    "import numpy as np\n",
    "import plotly.express as px\n",
    "import pandas as pd\n",
    "from streamlit_keplergl import keplergl_static\n",
    "from keplergl import KeplerGl\n",
    "\n",
    "CREDENTIALS_PATH = os.getenv('CREDENTIALS_PATH')\n",
    "DATASET_NAME = os.getenv('DATASET_NAME')\n",
    "TABLE_NAME = os.getenv('TABLE_NAME')\n"
   ]
  },
  {
   "cell_type": "code",
   "execution_count": 2,
   "metadata": {},
   "outputs": [],
   "source": [
    "# Function to create BigQuery client\n",
    "def create_bigquery_client(credentials_path):\n",
    "    credentials = service_account.Credentials.from_service_account_file(\n",
    "        credentials_path,\n",
    "    )\n",
    "    client = bigquery.Client(credentials=credentials, location=\"europe-west9\")\n",
    "    return client\n",
    "\n",
    "def query_all_from_table(credentials_path, dataset_name, table_name, query, location=\"US\"):\n",
    "    if len(query) < 1:\n",
    "        query = f\"SELECT * FROM `{dataset_name}.{table_name}` WHERE Total_duration__ms_ < 8000000 \"\n",
    "    credentials = service_account.Credentials.from_service_account_file(\n",
    "        credentials_path,\n",
    "    )\n",
    "    client = bigquery.Client(credentials=credentials, location=location)\n",
    "    query_job = client.query(query)\n",
    "    return query_job.result().to_dataframe()\n",
    "\n",
    "### DEFINING HELPER FUNCTIONS\n",
    "\n",
    "def clean_column_names(df):\n",
    "    # Strip whitespace, lowercase, and replace spaces with underscores for each column name\n",
    "    df.columns = df.columns.str.strip().str.lower().str.replace(' ', '_')\n",
    "    return df\n",
    "\n",
    "def extract_neighborhood(df, column_name, neighborhood_column_name):\n",
    "    # Split the column on the comma and take the second part (strip to remove leading/trailing spaces)\n",
    "    df[neighborhood_column_name] = df[column_name].str.split(',').str[1].str.strip()\n",
    "    return df\n"
   ]
  },
  {
   "cell_type": "code",
   "execution_count": 7,
   "metadata": {},
   "outputs": [],
   "source": [
    "### QUERYING DATA\n",
    "\n",
    "### FACT DATA\n",
    "\n",
    "query = f\"SELECT * FROM `{DATASET_NAME}.{TABLE_NAME}` WHERE Total_duration < 8000000 LIMIT 10000\"\n",
    "table_data = query_all_from_table(CREDENTIALS_PATH, dataset_name=DATASET_NAME, table_name=TABLE_NAME, location=\"US\", query=query)\n",
    "\n",
    "### GEOGRAPHY DATA\n",
    "\n",
    "import requests\n",
    "\n",
    "url = \"https://api.tfl.gov.uk/BikePoint/\"\n",
    "req = requests.get(url)\n",
    "df_geo = pd.DataFrame(req.json())\n",
    "df_geo[\"station_id\"] = df_geo.apply(lambda x: x[\"additionalProperties\"][0][\"value\"], axis=1)\n",
    "df_geo =  extract_neighborhood(df_geo, column_name = \"commonName\", neighborhood_column_name=\"nbh\")\n",
    "\n",
    "nbh_df = df_geo.groupby(by=[\"nbh\"],as_index=False).agg(\n",
    "        nbh_lat=('lat', 'mean'),\n",
    "        nbh_lon=('lon', 'mean')\n",
    "    )\n",
    "\n",
    "### DATA PREP - JOINING\n",
    "\n",
    "df_final = table_data.copy()\n",
    "df_final = clean_column_names(df_final)\n",
    "df_final =  extract_neighborhood(df_final, column_name = \"start_station\", neighborhood_column_name=\"start_nbh\")\n",
    "df_final = extract_neighborhood(df_final, column_name = \"end_station\", neighborhood_column_name=\"end_nbh\")\n",
    "\n",
    "df_final = df_final.merge(nbh_df, how=\"left\", left_on =\"start_nbh\", right_on=\"nbh\")\n",
    "df_final.rename(mapper={\"nbh_lat\":\"start_lat\", \"nbh_lon\":\"start_lon\"},axis=1, inplace=1)\n",
    "\n",
    "df_final = df_final.merge(nbh_df, how=\"left\", left_on =\"end_nbh\", right_on=\"nbh\")\n",
    "df_final.rename(mapper={\"nbh_lat\":\"end_lat\", \"nbh_lon\":\"end_lon\"},axis=1, inplace=1)\n",
    "\n",
    "df_final.drop(columns=[\"nbh_x\", \"nbh_y\"],axis=1,inplace=True)\n",
    "df_final.head()\n",
    "\n",
    "### DATA PREP - AGGREGATING\n",
    "\n",
    "df_agg = df_final.groupby(by=[\"start_nbh\", \"end_nbh\", \"start_lat\",\"start_lon\", \"end_lat\", \"end_lon\"],as_index=False).agg(\n",
    "        count=('bike_number', 'count')\n",
    "    )\n",
    "\n",
    "\n",
    "top_five_df = df_agg.groupby(\"start_nbh\").apply(\n",
    "      lambda x: x.nlargest(1, \"count\")\n",
    "  ).reset_index(drop=True)\n"
   ]
  },
  {
   "cell_type": "code",
   "execution_count": 8,
   "metadata": {},
   "outputs": [
    {
     "name": "stdout",
     "output_type": "stream",
     "text": [
      "User Guide: https://docs.kepler.gl/docs/keplergl-jupyter\n"
     ]
    },
    {
     "data": {
      "application/vnd.jupyter.widget-view+json": {
       "model_id": "67dd1e9e42134fabbff3c463bcbe10d3",
       "version_major": 2,
       "version_minor": 0
      },
      "text/plain": [
       "KeplerGl(data={'data_1': {'index': [0, 1, 2, 3, 4, 5, 6, 7, 8, 9, 10, 11, 12, 13, 14, 15, 16, 17, 18, 19, 20, …"
      ]
     },
     "metadata": {},
     "output_type": "display_data"
    }
   ],
   "source": [
    "map_1 = KeplerGl(height=700)\n",
    "map_1.add_data(data=top_five_df, name='data_1')\n",
    "map_1\n"
   ]
  },
  {
   "cell_type": "code",
   "execution_count": 10,
   "metadata": {},
   "outputs": [
    {
     "ename": "IsADirectoryError",
     "evalue": "[Errno 21] Is a directory: '/.'",
     "output_type": "error",
     "traceback": [
      "\u001b[0;31m---------------------------------------------------------------------------\u001b[0m",
      "\u001b[0;31mIsADirectoryError\u001b[0m                         Traceback (most recent call last)",
      "\u001b[1;32m/home/charles.gleizes.perso/code/charlesgleizes/tfl-cycle/streamlit_app/testing.ipynb Cell 5\u001b[0m line \u001b[0;36m6\n\u001b[1;32m      <a href='vscode-notebook-cell://ssh-remote%2Bdateng_vm_cg/home/charles.gleizes.perso/code/charlesgleizes/tfl-cycle/streamlit_app/testing.ipynb#W4sdnNjb2RlLXJlbW90ZQ%3D%3D?line=2'>3</a>\u001b[0m     \u001b[39mwith\u001b[39;00m \u001b[39mopen\u001b[39m(file_path, \u001b[39m'\u001b[39m\u001b[39mw\u001b[39m\u001b[39m'\u001b[39m) \u001b[39mas\u001b[39;00m file:\n\u001b[1;32m      <a href='vscode-notebook-cell://ssh-remote%2Bdateng_vm_cg/home/charles.gleizes.perso/code/charlesgleizes/tfl-cycle/streamlit_app/testing.ipynb#W4sdnNjb2RlLXJlbW90ZQ%3D%3D?line=3'>4</a>\u001b[0m         json\u001b[39m.\u001b[39mdump(data, file, indent\u001b[39m=\u001b[39m\u001b[39m4\u001b[39m)\n\u001b[0;32m----> <a href='vscode-notebook-cell://ssh-remote%2Bdateng_vm_cg/home/charles.gleizes.perso/code/charlesgleizes/tfl-cycle/streamlit_app/testing.ipynb#W4sdnNjb2RlLXJlbW90ZQ%3D%3D?line=5'>6</a>\u001b[0m save_dict_as_json(map_1\u001b[39m.\u001b[39;49mconfig, \u001b[39m\"\u001b[39;49m\u001b[39m/.\u001b[39;49m\u001b[39m\"\u001b[39;49m)\n",
      "\u001b[1;32m/home/charles.gleizes.perso/code/charlesgleizes/tfl-cycle/streamlit_app/testing.ipynb Cell 5\u001b[0m line \u001b[0;36m3\n\u001b[1;32m      <a href='vscode-notebook-cell://ssh-remote%2Bdateng_vm_cg/home/charles.gleizes.perso/code/charlesgleizes/tfl-cycle/streamlit_app/testing.ipynb#W4sdnNjb2RlLXJlbW90ZQ%3D%3D?line=1'>2</a>\u001b[0m \u001b[39mdef\u001b[39;00m \u001b[39msave_dict_as_json\u001b[39m(data, file_path):\n\u001b[0;32m----> <a href='vscode-notebook-cell://ssh-remote%2Bdateng_vm_cg/home/charles.gleizes.perso/code/charlesgleizes/tfl-cycle/streamlit_app/testing.ipynb#W4sdnNjb2RlLXJlbW90ZQ%3D%3D?line=2'>3</a>\u001b[0m     \u001b[39mwith\u001b[39;00m \u001b[39mopen\u001b[39;49m(file_path, \u001b[39m'\u001b[39;49m\u001b[39mw\u001b[39;49m\u001b[39m'\u001b[39;49m) \u001b[39mas\u001b[39;00m file:\n\u001b[1;32m      <a href='vscode-notebook-cell://ssh-remote%2Bdateng_vm_cg/home/charles.gleizes.perso/code/charlesgleizes/tfl-cycle/streamlit_app/testing.ipynb#W4sdnNjb2RlLXJlbW90ZQ%3D%3D?line=3'>4</a>\u001b[0m         json\u001b[39m.\u001b[39mdump(data, file, indent\u001b[39m=\u001b[39m\u001b[39m4\u001b[39m)\n",
      "File \u001b[0;32m~/code/charlesgleizes/tfl-cycle/streamlit_app/.venv/lib/python3.8/site-packages/IPython/core/interactiveshell.py:284\u001b[0m, in \u001b[0;36m_modified_open\u001b[0;34m(file, *args, **kwargs)\u001b[0m\n\u001b[1;32m    277\u001b[0m \u001b[39mif\u001b[39;00m file \u001b[39min\u001b[39;00m {\u001b[39m0\u001b[39m, \u001b[39m1\u001b[39m, \u001b[39m2\u001b[39m}:\n\u001b[1;32m    278\u001b[0m     \u001b[39mraise\u001b[39;00m \u001b[39mValueError\u001b[39;00m(\n\u001b[1;32m    279\u001b[0m         \u001b[39mf\u001b[39m\u001b[39m\"\u001b[39m\u001b[39mIPython won\u001b[39m\u001b[39m'\u001b[39m\u001b[39mt let you open fd=\u001b[39m\u001b[39m{\u001b[39;00mfile\u001b[39m}\u001b[39;00m\u001b[39m by default \u001b[39m\u001b[39m\"\u001b[39m\n\u001b[1;32m    280\u001b[0m         \u001b[39m\"\u001b[39m\u001b[39mas it is likely to crash IPython. If you know what you are doing, \u001b[39m\u001b[39m\"\u001b[39m\n\u001b[1;32m    281\u001b[0m         \u001b[39m\"\u001b[39m\u001b[39myou can use builtins\u001b[39m\u001b[39m'\u001b[39m\u001b[39m open.\u001b[39m\u001b[39m\"\u001b[39m\n\u001b[1;32m    282\u001b[0m     )\n\u001b[0;32m--> 284\u001b[0m \u001b[39mreturn\u001b[39;00m io_open(file, \u001b[39m*\u001b[39;49margs, \u001b[39m*\u001b[39;49m\u001b[39m*\u001b[39;49mkwargs)\n",
      "\u001b[0;31mIsADirectoryError\u001b[0m: [Errno 21] Is a directory: '/.'"
     ]
    }
   ],
   "source": [
    "import json\n",
    "def save_dict_as_json(data, file_path):\n",
    "    with open(file_path, 'w') as file:\n",
    "        json.dump(data, file, indent=4)\n",
    "\n",
    "save_dict_as_json(map_1.config, \"\")\n"
   ]
  },
  {
   "cell_type": "code",
   "execution_count": null,
   "metadata": {},
   "outputs": [],
   "source": []
  }
 ],
 "metadata": {
  "kernelspec": {
   "display_name": ".venv",
   "language": "python",
   "name": "python3"
  },
  "language_info": {
   "codemirror_mode": {
    "name": "ipython",
    "version": 3
   },
   "file_extension": ".py",
   "mimetype": "text/x-python",
   "name": "python",
   "nbconvert_exporter": "python",
   "pygments_lexer": "ipython3",
   "version": "3.8.14"
  }
 },
 "nbformat": 4,
 "nbformat_minor": 2
}
